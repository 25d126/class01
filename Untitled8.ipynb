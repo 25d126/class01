{
  "nbformat": 4,
  "nbformat_minor": 0,
  "metadata": {
    "colab": {
      "provenance": [],
      "authorship_tag": "ABX9TyPf5Wn8o1falv3adYe8+nOM",
      "include_colab_link": true
    },
    "kernelspec": {
      "name": "python3",
      "display_name": "Python 3"
    },
    "language_info": {
      "name": "python"
    }
  },
  "cells": [
    {
      "cell_type": "markdown",
      "metadata": {
        "id": "view-in-github",
        "colab_type": "text"
      },
      "source": [
        "<a href=\"https://colab.research.google.com/github/25d126/class01/blob/main/Untitled8.ipynb\" target=\"_parent\"><img src=\"https://colab.research.google.com/assets/colab-badge.svg\" alt=\"Open In Colab\"/></a>"
      ]
    },
    {
      "cell_type": "code",
      "execution_count": 3,
      "metadata": {
        "colab": {
          "base_uri": "https://localhost:8080/"
        },
        "id": "Fi0vfozyPU-e",
        "outputId": "f0de65c5-d581-4c54-8431-49325f4f2d9e"
      },
      "outputs": [
        {
          "output_type": "stream",
          "name": "stdout",
          "text": [
            "첫번째 숫자는?: 3\n",
            "사칙연산을 입력하세요(+, -, *, /): +\n",
            "두번째 숫자는?: 4\n",
            "답: 7.0\n"
          ]
        }
      ],
      "source": [
        "# prompt: 계산기 프로그램을 만들어줘\n",
        "\n",
        "# Define a function to perform calculations\n",
        "def calculate(num1, operator, num2):\n",
        "  \"\"\"Performs a calculation based on the provided numbers and operator.\"\"\"\n",
        "\n",
        "  if operator == '+':\n",
        "    return num1 + num2\n",
        "  elif operator == '-':\n",
        "    return num1 - num2\n",
        "  elif operator == '*':\n",
        "    return num1 * num2\n",
        "  elif operator == '/':\n",
        "    if num2 == 0:\n",
        "      return \"Error: Cannot divide by zero\"\n",
        "    else:\n",
        "      return num1 / num2\n",
        "  else:\n",
        "    return \"Error: Invalid operator\"\n",
        "\n",
        "# Get input from the user\n",
        "try:\n",
        "  num1 = float(input(\"첫번째 숫자는?: \"))\n",
        "  operator = input(\"사칙연산을 입력하세요(+, -, *, /): \")\n",
        "  num2 = float(input(\"두번째 숫자는?: \"))\n",
        "\n",
        "  # Perform the calculation and print the result\n",
        "  result = calculate(num1, operator, num2)\n",
        "  print(\"답:\", result)\n",
        "\n",
        "except ValueError:\n",
        "  print(\"Error: Invalid input. Please enter valid numbers.\")\n",
        "except Exception as e:\n",
        "  print(\"An error occurred:\", e)"
      ]
    }
  ]
}