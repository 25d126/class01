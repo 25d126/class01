{
  "nbformat": 4,
  "nbformat_minor": 0,
  "metadata": {
    "colab": {
      "provenance": [],
      "authorship_tag": "ABX9TyNLwtC7897WjIKYY6++fUi7",
      "include_colab_link": true
    },
    "kernelspec": {
      "name": "python3",
      "display_name": "Python 3"
    },
    "language_info": {
      "name": "python"
    }
  },
  "cells": [
    {
      "cell_type": "markdown",
      "metadata": {
        "id": "view-in-github",
        "colab_type": "text"
      },
      "source": [
        "<a href=\"https://colab.research.google.com/github/25d126/class01/blob/main/python%EB%AC%B8%EB%B2%95.ipynb\" target=\"_parent\"><img src=\"https://colab.research.google.com/assets/colab-badge.svg\" alt=\"Open In Colab\"/></a>"
      ]
    },
    {
      "cell_type": "code",
      "execution_count": null,
      "metadata": {
        "id": "CdVLSuCNJUGa"
      },
      "outputs": [],
      "source": [
        "# prompt: 덧셈 게임 하나 만들어줘\n",
        "\n",
        "import random\n",
        "\n",
        "def play_addition_game():\n",
        "  \"\"\"Plays an addition game with the user.\"\"\"\n",
        "\n",
        "  num1 = random.randint(1, 50)  # Generate random numbers between 1 and 50\n",
        "  num2 = random.randint(1, 50)\n",
        "\n",
        "  correct_answer = num1 + num2\n",
        "\n",
        "  while True:\n",
        "      try:\n",
        "          user_answer = int(input(f\"{num1} + {num2} = ? \"))\n",
        "          if user_answer == correct_answer:\n",
        "              print(\"정답입니다!\")\n",
        "              break\n",
        "          else:\n",
        "              print(\"오답입니다. 다시 시도해보세요.\")\n",
        "      except ValueError:\n",
        "          print(\"숫자를 입력해주세요.\")\n",
        "\n",
        "play_addition_game()\n"
      ]
    }
  ]
}