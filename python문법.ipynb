{
  "nbformat": 4,
  "nbformat_minor": 0,
  "metadata": {
    "colab": {
      "provenance": [],
      "authorship_tag": "ABX9TyNcbWFGN1KA2rLdKDRMuxXd",
      "include_colab_link": true
    },
    "kernelspec": {
      "name": "python3",
      "display_name": "Python 3"
    },
    "language_info": {
      "name": "python"
    }
  },
  "cells": [
    {
      "cell_type": "markdown",
      "metadata": {
        "id": "view-in-github",
        "colab_type": "text"
      },
      "source": [
        "<a href=\"https://colab.research.google.com/github/25d126/class01/blob/main/python%EB%AC%B8%EB%B2%95.ipynb\" target=\"_parent\"><img src=\"https://colab.research.google.com/assets/colab-badge.svg\" alt=\"Open In Colab\"/></a>"
      ]
    },
    {
      "cell_type": "code",
      "execution_count": null,
      "metadata": {
        "colab": {
          "base_uri": "https://localhost:8080/"
        },
        "id": "CdVLSuCNJUGa",
        "outputId": "178dd802-058d-4a1e-c09a-130a57430e8b"
      },
      "outputs": [
        {
          "metadata": {
            "tags": null
          },
          "name": "stdout",
          "output_type": "stream",
          "text": [
            "덧셈 게임 시작!\n"
          ]
        }
      ],
      "source": [
        "# prompt: 덧셈 게임 하나 만들어줘\n",
        "\n",
        "import random\n",
        "\n",
        "def play_addition_game():\n",
        "  \"\"\"Plays a simple addition game with the user.\"\"\"\n",
        "\n",
        "  print(\"덧셈 게임 시작!\")\n",
        "\n",
        "  while True:\n",
        "    num1 = random.randint(1, 10)\n",
        "    num2 = random.randint(1, 10)\n",
        "    correct_answer = num1 + num2\n",
        "\n",
        "    try:\n",
        "      user_answer = int(input(f\"{num1} + {num2} = ? \"))\n",
        "    except ValueError:\n",
        "      print(\"숫자를 입력해주세요.\")\n",
        "      continue\n",
        "\n",
        "    if user_answer == correct_answer:\n",
        "      print(\"맞았어!\")\n",
        "    else:\n",
        "      print(f\"아쉽네. 정답은 {correct_answer}입니다.\")\n",
        "\n",
        "    play_again = input(\"다시 할래?? (네/아니): \")\n",
        "    if play_again.lower() != '네':\n",
        "      break\n",
        "\n",
        "  print(\"게임을 종료합니다.\")\n",
        "\n",
        "if __name__ == \"__main__\":\n",
        "  play_addition_game()\n"
      ]
    }
  ]
}