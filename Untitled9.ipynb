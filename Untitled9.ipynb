{
  "nbformat": 4,
  "nbformat_minor": 0,
  "metadata": {
    "colab": {
      "provenance": [],
      "authorship_tag": "ABX9TyNSntfji/OK3hLQ+gC5R08m",
      "include_colab_link": true
    },
    "kernelspec": {
      "name": "python3",
      "display_name": "Python 3"
    },
    "language_info": {
      "name": "python"
    }
  },
  "cells": [
    {
      "cell_type": "markdown",
      "metadata": {
        "id": "view-in-github",
        "colab_type": "text"
      },
      "source": [
        "<a href=\"https://colab.research.google.com/github/25d126/class01/blob/main/Untitled9.ipynb\" target=\"_parent\"><img src=\"https://colab.research.google.com/assets/colab-badge.svg\" alt=\"Open In Colab\"/></a>"
      ]
    },
    {
      "cell_type": "code",
      "execution_count": 33,
      "metadata": {
        "colab": {
          "base_uri": "https://localhost:8080/"
        },
        "id": "TDgEnS2JSRzX",
        "outputId": "f338d5d4-82a8-454e-c12b-9c1a23d5e073"
      },
      "outputs": [
        {
          "output_type": "stream",
          "name": "stdout",
          "text": [
            "당신의 이름은 무엇입니까?온유\n",
            "당신이 좋아하는 색깔은 무엇입니까?노랑\n",
            "안녕, 온유! 당신이 좋아하는 색깔은 노랑이군요.\n"
          ]
        }
      ],
      "source": [
        "# prompt: 이름을 묻고, 이름을 변수(이름에 저장해.그리고 나서 좋아하는 색깔을 묻고 색깔을 변수에 저장해 그리고 이름과 색깔을 연결하여 문장을 꾸며\n",
        "\n",
        "name = input(\"당신의 이름은 무엇입니까?\")\n",
        "color = input(\"당신이 좋아하는 색깔은 무엇입니까?\")\n",
        "\n",
        "\n",
        "print(\"안녕, \" + name + \"! 당신이 좋아하는 색깔은 \" + color + \"이군요.\")"
      ]
    }
  ]
}