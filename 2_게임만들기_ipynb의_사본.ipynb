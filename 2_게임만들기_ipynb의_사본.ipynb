{
  "nbformat": 4,
  "nbformat_minor": 0,
  "metadata": {
    "colab": {
      "provenance": [],
      "collapsed_sections": [
        "A7ixV-Vm52i0",
        "Nv8opE6A59Ha",
        "3DB-EwT36Cl8"
      ],
      "include_colab_link": true
    },
    "kernelspec": {
      "name": "python3",
      "display_name": "Python 3"
    },
    "language_info": {
      "name": "python"
    }
  },
  "cells": [
    {
      "cell_type": "markdown",
      "metadata": {
        "id": "view-in-github",
        "colab_type": "text"
      },
      "source": [
        "<a href=\"https://colab.research.google.com/github/25d126/class01/blob/main/2_%EA%B2%8C%EC%9E%84%EB%A7%8C%EB%93%A4%EA%B8%B0_ipynb%EC%9D%98_%EC%82%AC%EB%B3%B8.ipynb\" target=\"_parent\"><img src=\"https://colab.research.google.com/assets/colab-badge.svg\" alt=\"Open In Colab\"/></a>"
      ]
    },
    {
      "cell_type": "markdown",
      "source": [
        "# 첫번째 게임\n"
      ],
      "metadata": {
        "id": "A7ixV-Vm52i0"
      }
    },
    {
      "cell_type": "code",
      "source": [],
      "metadata": {
        "id": "UlyGXlHGEBwi"
      },
      "execution_count": null,
      "outputs": []
    },
    {
      "cell_type": "code",
      "source": [],
      "metadata": {
        "id": "x3MLVAAbEB6-"
      },
      "execution_count": null,
      "outputs": []
    },
    {
      "cell_type": "code",
      "execution_count": null,
      "metadata": {
        "id": "GKcAcH6Wy4E2",
        "colab": {
          "base_uri": "https://localhost:8080/"
        },
        "outputId": "0330a10e-ee79-4177-8a5f-6e630e0e7372"
      },
      "outputs": [
        {
          "output_type": "stream",
          "name": "stdout",
          "text": [
            "🏴‍☠️ 보물 상자 찾기 게임!\n",
            "1번부터 5번까지 상자 중 하나에 보물이 있어요.\n",
            "\n",
            "1번 상자를 열어볼게요...\n",
            "빈 상자였어요 😢\n",
            "\n",
            "2번 상자를 열어볼게요...\n",
            "빈 상자였어요 😢\n",
            "\n",
            "3번 상자를 열어볼게요...\n",
            "빈 상자였어요 😢\n",
            "\n",
            "4번 상자를 열어볼게요...\n",
            "🎉 보물을 찾았어요! 축하합니다!\n",
            "\n",
            "게임 끝!\n"
          ]
        }
      ],
      "source": [
        "import random\n",
        "\n",
        "# print : 출력하기\n",
        "# range : 범위\n",
        "# treasure : 보물\n",
        "# break : 깨다. 멈추다.\n",
        "# if : 만약\n",
        "# else : 그 밖에 다른\n",
        "\n",
        "# 보물이 들어있는 상자 번호 (1~5 중 하나 무작위)\n",
        "treasure_box = random.randint(1, 5)\n",
        "\n",
        "print(\"🏴‍☠️ 보물 상자 찾기 게임!\")\n",
        "print(\"1번부터 5번까지 상자 중 하나에 보물이 있어요.\\n\")\n",
        "\n",
        "# for 문을 이용해서 상자 하나씩 열어보기\n",
        "for box_number in range(1, 6):\n",
        "    print(f\"{box_number}번 상자를 열어볼게요...\")\n",
        "\n",
        "    if box_number == treasure_box:\n",
        "        print(\"🎉 보물을 찾았어요! 축하합니다!\")\n",
        "        break\n",
        "    else:\n",
        "        print(\"빈 상자였어요 😢\\n\")\n",
        "\n",
        "else:\n",
        "    print(\"모든 상자를 열었지만 보물을 찾지 못했어요...\")\n",
        "\n",
        "print(\"\\n게임 끝!\")"
      ]
    },
    {
      "cell_type": "markdown",
      "source": [
        "# 두번째 게임(내가 직접 하는 게임)"
      ],
      "metadata": {
        "id": "Nv8opE6A59Ha"
      }
    },
    {
      "cell_type": "code",
      "source": [
        "import random\n",
        "\n",
        "# except : 예외\n",
        "# choice : 선택\n",
        "# attempt : 시도\n",
        "\n",
        "treasure_box = random.randint(1, 5)\n",
        "\n",
        "print(\"🎮 보물 상자 찾기 게임 (사용자 선택 버전)!\")\n",
        "print(\"1번부터 5번까지 상자 중 하나에 보물이 있어요.\")\n",
        "print(\"총 3번 기회가 있어요. 숫자를 입력해서 상자를 열어보세요.\\n\")\n",
        "\n",
        "for attempt in range(1, 4):\n",
        "    try:\n",
        "        choice = int(input(f\"[{attempt}/4] 열고 싶은 상자 번호를 입력하세요 (1~5): \"))\n",
        "\n",
        "        if choice < 1 or choice > 5:\n",
        "            print(\"❗ 1에서 5 사이의 숫자를 입력해주세요.\\n\")\n",
        "            continue\n",
        "\n",
        "        if choice == treasure_box:\n",
        "            print(\"🎉 축하합니다! 보물을 찾았어요!\")\n",
        "            break\n",
        "        else:\n",
        "            print(\"😢 빈 상자였어요.\\n\")\n",
        "    except ValueError:\n",
        "        print(\"❗ 숫자를 입력해주세요.\\n\")\n",
        "\n",
        "else:\n",
        "    print(\"💥 3번의 기회를 모두 사용했어요. 보물은 찾지 못했네요!\")\n",
        "\n",
        "print(\"\\n게임 끝!\")"
      ],
      "metadata": {
        "id": "BUK6P9Qz4tV1",
        "colab": {
          "base_uri": "https://localhost:8080/"
        },
        "outputId": "8aef74fc-a2ed-4b3d-80d7-5f8f45c09e4d"
      },
      "execution_count": null,
      "outputs": [
        {
          "output_type": "stream",
          "name": "stdout",
          "text": [
            "🎮 보물 상자 찾기 게임 (사용자 선택 버전)!\n",
            "1번부터 5번까지 상자 중 하나에 보물이 있어요.\n",
            "총 3번 기회가 있어요. 숫자를 입력해서 상자를 열어보세요.\n",
            "\n",
            "[1/3] 열고 싶은 상자 번호를 입력하세요 (1~5): 3\n",
            "🎉 축하합니다! 보물을 찾았어요!\n",
            "\n",
            "게임 끝!\n"
          ]
        }
      ]
    },
    {
      "cell_type": "markdown",
      "source": [
        "# 내가 해킹한 게임\n",
        "게임을 내 마음대로 수정해보기\n"
      ],
      "metadata": {
        "id": "3DB-EwT36Cl8"
      }
    },
    {
      "cell_type": "code",
      "source": [
        "import random\n",
        "\n",
        "# except : 예외\n",
        "# choice : 선택\n",
        "# attempt : 시도\n",
        "\n",
        "treasure_box = random.randint(1, 100)\n",
        "\n",
        "print(\"🎮 보물 상자 찾기 게임 (사용자 선택 버전)!\")\n",
        "print(\"1번부터 100번까지 상자 중 하나에 보물이 있어요.\")\n",
        "print(\"총 1번 기회가 있어요. 숫자를 입력해서 상자를 열어보세요.\\n\")\n",
        "\n",
        "for attempt in range(1, 2):\n",
        "    try:\n",
        "        choice = int(input(f\"[{attempt}/1] 열고 싶은 상자 번호를 입력하세요 (1~100): \"))\n",
        "\n",
        "        if choice < 1 or choice > 100:\n",
        "            print(\"❗ 1에서 100 사이의 숫자를 입력해주세요.\\n\")\n",
        "            continue\n",
        "\n",
        "        if choice == treasure_box:\n",
        "            print(\"🎉 축하합니다! 보물을 찾았어요!\")\n",
        "            break\n",
        "        else:\n",
        "            print(\"🎉 축하합니다! 보물을 찾았어요!.\\n\")\n",
        "    except ValueError:\n",
        "        print(\"❗ 숫자를 입력해주세요.\\n\")\n",
        "\n",
        "\n",
        "\n",
        "\n",
        "print(\"\\n게임 끝!\")"
      ],
      "metadata": {
        "id": "IoRM880T6Gix",
        "colab": {
          "base_uri": "https://localhost:8080/"
        },
        "outputId": "42a30ae3-8239-40d7-e75b-c495b196799c"
      },
      "execution_count": null,
      "outputs": [
        {
          "output_type": "stream",
          "name": "stdout",
          "text": [
            "🎮 보물 상자 찾기 게임 (사용자 선택 버전)!\n",
            "1번부터 100번까지 상자 중 하나에 보물이 있어요.\n",
            "총 1번 기회가 있어요. 숫자를 입력해서 상자를 열어보세요.\n",
            "\n",
            "[1/1] 열고 싶은 상자 번호를 입력하세요 (1~100): 21\n",
            "🎉 축하합니다! 보물을 찾았어요!.\n",
            "\n",
            "\n",
            "게임 끝!\n"
          ]
        }
      ]
    }
  ]
}