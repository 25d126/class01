{
  "nbformat": 4,
  "nbformat_minor": 0,
  "metadata": {
    "colab": {
      "provenance": [],
      "authorship_tag": "ABX9TyPcet25LCiUCuBGocmuFNWr",
      "include_colab_link": true
    },
    "kernelspec": {
      "name": "python3",
      "display_name": "Python 3"
    },
    "language_info": {
      "name": "python"
    }
  },
  "cells": [
    {
      "cell_type": "markdown",
      "metadata": {
        "id": "view-in-github",
        "colab_type": "text"
      },
      "source": [
        "<a href=\"https://colab.research.google.com/github/25d126/class01/blob/main/Untitled10.ipynb\" target=\"_parent\"><img src=\"https://colab.research.google.com/assets/colab-badge.svg\" alt=\"Open In Colab\"/></a>"
      ]
    },
    {
      "cell_type": "code",
      "execution_count": null,
      "metadata": {
        "colab": {
          "base_uri": "https://localhost:8080/",
          "height": 545
        },
        "id": "zw-XKxjFeyxy",
        "outputId": "c7c6946f-4dfb-4218-d5e1-65b31a19b915"
      },
      "outputs": [
        {
          "output_type": "display_data",
          "data": {
            "text/plain": [
              "<Figure size 600x600 with 1 Axes>"
            ],
            "image/png": "[encoded data removed]"
          },
          "metadata": {}
        }
      ],
      "source": [
        "# prompt:  움직이는 로봇청소기인데, * 로봇청소기가 움직이는게 보이게 해줘 사각형 형태로 한바퀴 돌아 그리고 로봇이가는 길에 파란 선을 그려줘 그것을 계속 반복해줘 그림으로\n",
        "\n",
        "import matplotlib.pyplot as plt\n",
        "import time\n",
        "from IPython.display import clear_output\n",
        "\n",
        "def plot_robot_path(x, y, path_x, path_y, ax):\n",
        "    ax.clear()\n",
        "    ax.plot(path_x, path_y, 'b-') # Plot path in blue\n",
        "    ax.plot(x, y, 'ro', markersize=10) # Plot robot as a red circle\n",
        "    ax.set_xlim([-1, 11])\n",
        "    ax.set_ylim([-1, 11])\n",
        "    ax.set_aspect('equal', adjustable='box')\n",
        "    ax.set_title(\"Robot Vacuum Cleaning\")\n",
        "    ax.grid(True)\n",
        "    plt.show()\n",
        "\n",
        "def simulate_cleaning():\n",
        "    fig, ax = plt.subplots(figsize=(6, 6))\n",
        "\n",
        "    # Define square path corners\n",
        "    corners = [(0, 0), (10, 0), (10, 10), (0, 10)]\n",
        "    path_x = []\n",
        "    path_y = []\n",
        "\n",
        "    while True:\n",
        "        for i in range(len(corners)):\n",
        "            start_x, start_y = corners[i]\n",
        "            end_x, end_y = corners[(i + 1) % len(corners)]\n",
        "\n",
        "            # Move along the segment\n",
        "            steps = 50\n",
        "            for step in range(steps + 1):\n",
        "                x = start_x + (end_x - start_x) * step / steps\n",
        "                y = start_y + (end_y - start_y) * step / steps\n",
        "\n",
        "                path_x.append(x)\n",
        "                path_y.append(y)\n",
        "\n",
        "                plot_robot_path(x, y, path_x, path_y, ax)\n",
        "                clear_output(wait=True)\n",
        "                time.sleep(0.05) # Control speed\n",
        "\n",
        "        # Reset path for the next loop if you want the blue line to reset\n",
        "        # If you want the blue line to accumulate, comment these two lines\n",
        "        # path_x = []\n",
        "        # path_y = []\n",
        "\n",
        "simulate_cleaning()\n"
      ]
    }
  ]
}