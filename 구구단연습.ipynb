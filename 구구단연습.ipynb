{
  "nbformat": 4,
  "nbformat_minor": 0,
  "metadata": {
    "colab": {
      "provenance": [],
      "authorship_tag": "ABX9TyNuLACWLIOfsK7Tsi7byHLT",
      "include_colab_link": true
    },
    "kernelspec": {
      "name": "python3",
      "display_name": "Python 3"
    },
    "language_info": {
      "name": "python"
    }
  },
  "cells": [
    {
      "cell_type": "markdown",
      "metadata": {
        "id": "view-in-github",
        "colab_type": "text"
      },
      "source": [
        "<a href=\"https://colab.research.google.com/github/25d126/class01/blob/main/%EA%B5%AC%EA%B5%AC%EB%8B%A8%EC%97%B0%EC%8A%B5.ipynb\" target=\"_parent\"><img src=\"https://colab.research.google.com/assets/colab-badge.svg\" alt=\"Open In Colab\"/></a>"
      ]
    },
    {
      "cell_type": "code",
      "execution_count": null,
      "metadata": {
        "colab": {
          "base_uri": "https://localhost:8080/"
        },
        "id": "gjzBooQ8OSaa",
        "outputId": "a7337287-3b5b-4143-fec1-26230976a511"
      },
      "outputs": [
        {
          "output_type": "stream",
          "name": "stdout",
          "text": [
            "구구단 퀴즈를 시작합니다!\n",
            "2 x 2 = ?\n",
            "정답을 입력하세요: 4\n",
            "정답입니다!\n",
            "다음 문제를 푸시겠습니까? ㅇ/ㄴ): ㅇ\n",
            "7 x 5 = ?\n",
            "정답을 입력하세요: 35\n",
            "정답입니다!\n",
            "다음 문제를 푸시겠습니까? ㅇ/ㄴ): ㅇ\n",
            "2 x 4 = ?\n",
            "정답을 입력하세요: 8\n",
            "정답입니다!\n"
          ]
        }
      ],
      "source": [
        "# prompt: 구구단 퀴즈를 만들어줘 설명도 같이\n",
        "\n",
        "import random\n",
        "\n",
        "def gugudan_quiz():\n",
        "  \"\"\"구구단 퀴즈를 실행합니다. 사용자는 문제에 대한 답을 입력하고 정답/오답 여부를 확인합니다.\"\"\"\n",
        "\n",
        "  while True:\n",
        "    # 2단부터 9단까지 랜덤하게 단을 선택\n",
        "    dan = random.randint(2, 9)\n",
        "    # 2부터 9까지 랜덤하게 곱할 수를 선택\n",
        "    num = random.randint(2, 9)\n",
        "\n",
        "    # 문제 출력\n",
        "    question = f\"{dan} x {num} = ?\"\n",
        "    print(question)\n",
        "\n",
        "    # 사용자 입력 받기\n",
        "    try:\n",
        "      answer = int(input(\"정답을 입력하세요: \"))\n",
        "    except ValueError:\n",
        "      print(\"숫자를 입력해주세요.\")\n",
        "      continue\n",
        "\n",
        "    # 정답 확인\n",
        "    correct_answer = dan * num\n",
        "    if answer == correct_answer:\n",
        "      print(\"정답입니다!\")\n",
        "    else:\n",
        "      print(f\"틀렸습니다. 정답은 {correct_answer}입니다.\")\n",
        "\n",
        "    # 다음 문제 또는 종료 여부 확인\n",
        "    play_again = input(\"다음 문제를 푸시겠습니까? ㅇ/ㄴ): \")\n",
        "    if play_again.lower() != 'ㅇ':\n",
        "      break\n",
        "\n",
        "if __name__ == \"__main__\":\n",
        "  print(\"구구단 퀴즈를 시작합니다!\")\n",
        "  gugudan_quiz()\n",
        "  print(\"구구단 퀴즈를 종료합니다.\")\n"
      ]
    }
  ]
}